{
 "cells": [
  {
   "cell_type": "code",
   "execution_count": 1,
   "id": "c24cc20b",
   "metadata": {
    "ExecuteTime": {
     "end_time": "2023-05-09T14:43:46.982359Z",
     "start_time": "2023-05-09T14:43:46.626669Z"
    }
   },
   "outputs": [],
   "source": [
    "# importing libraries\n",
    "\n",
    "from __future__ import print_function\n",
    "from ipywidgets import interact, interactive, fixed, interact_manual\n",
    "from IPython.display import display, HTML\n",
    "\n",
    "import numpy as np\n",
    "import pandas as pd\n",
    "import matplotlib.pyplot as plt\n",
    "import plotly.express as px\n",
    "import folium\n",
    "import plotly.graph_objects as go\n",
    "import seaborn as sns\n",
    "import ipywidgets as widgets\n",
    "import requests\n"
   ]
  },
  {
   "cell_type": "code",
   "execution_count": null,
   "id": "a79d5b1e",
   "metadata": {
    "ExecuteTime": {
     "start_time": "2023-05-09T14:43:46.987779Z"
    },
    "is_executing": true
   },
   "outputs": [],
   "source": [
    "#Import or Load the Data\n",
    "death_df = pd.read_csv('https://raw.githubusercontent.com/CSSEGISandData/COVID-19/master/csse_covid_19_data/csse_covid_19_time_series/time_series_covid19_deaths_US.csv')\n",
    "confirmed_df = pd.read_csv('https://raw.githubusercontent.com/CSSEGISandData/COVID-19/master/csse_covid_19_data/csse_covid_19_time_series/time_series_covid19_confirmed_US.csv')\n",
    "confirmed_df.set_index(confirmed_df['Province_State'],inplace=True)\n",
    "confirmed_df.rename(columns={'Province_State': 'State'},inplace=True)\n",
    "death_df.set_index(death_df['Province_State'],inplace=True)\n",
    "death_df.rename(columns={'Province_State': 'State'},inplace=True)\n",
    "confirmed_df_states=confirmed_df.drop(columns=['UID', 'code3', 'FIPS', 'Lat', 'Long_']).groupby(['State']).sum().copy()\n",
    "death_df_states=death_df.drop(columns=['UID', 'code3', 'FIPS', 'Lat', 'Long_']).groupby(['State']).sum().copy()\n",
    "confirmed_df_states=pd.merge(confirmed_df[['Lat', 'Long_','State']].groupby(['State']).mean(),confirmed_df_states, left_index=True, right_index=True)\n",
    "death_df_states=pd.merge(death_df[['Lat', 'Long_','State']].groupby(['State']).mean(),death_df_states, left_index=True, right_index=True)\n",
    "combined_df=pd.DataFrame()\n",
    "combined_df['Confirmed']=confirmed_df_states[confirmed_df_states.columns[-1]]\n",
    "combined_df['Deaths']=death_df_states[death_df_states.columns[-1]]\n"
   ]
  },
  {
   "cell_type": "code",
   "execution_count": null,
   "id": "0d10d617",
   "metadata": {
    "is_executing": true
   },
   "outputs": [],
   "source": [
    "#Statewise Data\n",
    "sorted_combined_df=combined_df.loc[:,[\"Confirmed\",\"Deaths\"]].sort_values(\"Confirmed\",ascending=False)\n",
    "sorted_combined_df['State']=sorted_combined_df.index\n",
    "combined_df.loc[:,[\"Confirmed\",\"Deaths\"]].sort_values(\"Confirmed\",ascending=False).style.background_gradient(cmap='Blues',subset=[\"Confirmed\"]).background_gradient(cmap='Reds',subset=[\"Deaths\"])"
   ]
  },
  {
   "cell_type": "code",
   "execution_count": null,
   "id": "1393b98b",
   "metadata": {
    "is_executing": true
   },
   "outputs": [],
   "source": [
    "world_map = folium.Map(location=[11,0], tiles=\"cartodbpositron\", zoom_start=2, max_zoom = 6, min_zoom = 2)\n",
    "\n",
    "\n",
    "for i in range(0,len(confirmed_df)):\n",
    "    folium.Circle(\n",
    "        location=[confirmed_df.iloc[i]['Lat'], confirmed_df.iloc[i]['Long_']],\n",
    "        fill=True,\n",
    "        radius=int((np.log2(confirmed_df.iloc[i,-1]+1))*6000),\n",
    "        color='orange',\n",
    "        fill_color='#ff8533',\n",
    "        tooltip = \"<div style='margin: 0; background-color: black; color: white;'>\"+\n",
    "                    \"<h4 style='text-align:center;font-weight: bold'>\"+confirmed_df.index[i] + \"</h4>\"\n",
    "                    \"<hr style='margin:10px;color: white;'>\"+\n",
    "                    \"<ul style='color: white;;list-style-type:circle;align-item:left;padding-left:20px;padding-right:20px'>\"+\n",
    "                        \"<li>Confirmed: \"+str(confirmed_df.iloc[i,-1])+\"</li>\"+\n",
    "                        \"<li>Deaths:   \"+str(death_df.iloc[i,-1])+\"</li>\"+\n",
    "                        \"<li>Death Rate: \"+ str(np.round(death_df.iloc[i,-1]/(confirmed_df.iloc[i,-1]+1.00001)*100,2))+ \"</li>\"+\n",
    "                    \"</ul></div>\",\n",
    "        ).add_to(world_map)\n",
    "\n",
    "world_map"
   ]
  },
  {
   "cell_type": "code",
   "execution_count": null,
   "id": "fbba92c6",
   "metadata": {
    "is_executing": true
   },
   "outputs": [],
   "source": [
    "state_geo = requests.get('https://raw.githubusercontent.com/python-visualization/folium/master/examples/data/us-states.json').json()"
   ]
  },
  {
   "cell_type": "code",
   "execution_count": null,
   "id": "bfa66a43",
   "metadata": {
    "is_executing": true
   },
   "outputs": [],
   "source": [
    "data_temp = confirmed_df.groupby([\"State\"]).sum().reset_index().drop([\"Lat\",\"Long_\"],axis=1)\n",
    "data_temp[\"Confirmed_log\"] = np.log10(data_temp.iloc[:,-1]+1)\n",
    "bins = list(data_temp['Confirmed_log'].quantile([0, 0.25, 0.5, 0.75,0.95 ,1]))\n",
    "m = folium.Map(location=[37, -102], zoom_start=4,max_zoom=6,min_zoom=3)\n",
    " \n",
    "\n",
    "folium.Choropleth(\n",
    "    geo_data=state_geo,\n",
    "    name='choropleth',\n",
    "    data = data_temp,\n",
    "    columns=['State', 'Confirmed_log'],\n",
    "    key_on='feature.properties.name',\n",
    "    fill_color='Reds',\n",
    "    fill_opacity=0.7,\n",
    "    line_opacity=0.2,\n",
    "    bins = bins,\n",
    "    reset=True,\n",
    "    legend_name='Confirmed cases log (10^x)'\n",
    ").add_to(m)\n",
    "folium.LayerControl().add_to(m)\n",
    "\n",
    "legend_html = \"<div style='padding:10px;background-color:rgba(255,255,255,0.5);position:fixed;bottom:20px;left:20px;z-index:1000'>\"\n",
    "legend_html += \"<div style='width:100%;text-align:center;'><h4>Index for Legend</h4></div><hr style='border-top-color: rgba(25,25,25,0.5);'>\"\n",
    "legend_html += \"<ul style='margin:0;padding:0;color: #555;list-style-type:circle;align-item:left;padding-left:20px;padding-right:20px'>\"\n",
    "for i in bins:\n",
    "    legend_html += \"<li style='margin:0;padding:0;line-height: 0;'>Value \"+str(np.round(i,2))+\" : \"+str(int(10**i)-1)+\"</li><br>\"\n",
    "legend_html += \"</ul></div>\"\n",
    "m.get_root().html.add_child(folium.Element(legend_html))\n",
    "m"
   ]
  },
  {
   "cell_type": "code",
   "execution_count": null,
   "id": "ea4ce1fa",
   "metadata": {
    "is_executing": true
   },
   "outputs": [],
   "source": [
    "data_temp = death_df.groupby([\"State\"]).sum().reset_index().drop([\"Lat\",\"Long_\"],axis=1)\n",
    "data_temp[\"Death_log\"] = np.log10(data_temp.iloc[:,-1]+1)\n",
    "bins = list(data_temp['Death_log'].quantile([0, 0.25, 0.5, 0.75,0.95 ,1]))\n",
    "m = folium.Map(location=[37, -102], zoom_start=4,max_zoom=6,min_zoom=3)\n",
    " \n",
    "\n",
    "folium.Choropleth(\n",
    "    geo_data=state_geo,\n",
    "    name='choropleth',\n",
    "    data = data_temp,\n",
    "    columns=['State', 'Death_log'],\n",
    "    key_on='feature.properties.name',\n",
    "    fill_color='Reds',\n",
    "    fill_opacity=0.7,\n",
    "    line_opacity=0.2,\n",
    "    bins = bins,\n",
    "    reset=True,\n",
    "    legend_name='Death cases log (10^x)'\n",
    ").add_to(m)\n",
    "folium.LayerControl().add_to(m)\n",
    "\n",
    "legend_html = \"<div style='padding:10px;background-color:rgba(255,255,255,0.5);position:fixed;bottom:20px;left:20px;z-index:1000'>\"\n",
    "legend_html += \"<div style='width:100%;text-align:center;'><h4>Index for Legend</h4></div><hr style='border-top-color: rgba(25,25,25,0.5);'>\"\n",
    "legend_html += \"<ul style='margin:0;padding:0;color: #555;list-style-type:circle;align-item:left;padding-left:20px;padding-right:20px'>\"\n",
    "for i in bins:\n",
    "    legend_html += \"<li style='margin:0;padding:0;line-height: 0;'>Value \"+str(np.round(i,2))+\" : \"+str(int(10**i)-1)+\"</li><br>\"\n",
    "legend_html += \"</ul></div>\"\n",
    "m.get_root().html.add_child(folium.Element(legend_html))\n",
    "m"
   ]
  },
  {
   "cell_type": "code",
   "execution_count": null,
   "id": "948dcc73",
   "metadata": {
    "is_executing": true
   },
   "outputs": [],
   "source": [
    "#Dashboard for Washington\n",
    "df_wa = pd.read_csv(\"~/Desktop/wa_time_series_covid.csv\")\n",
    "df_wa = df_wa.drop(df_wa.index[-1])"
   ]
  },
  {
   "cell_type": "code",
   "execution_count": null,
   "id": "f060a9c4",
   "metadata": {
    "is_executing": true
   },
   "outputs": [],
   "source": [
    "#Total number of confirmed death and cases\n",
    "total_cases = int(df_wa['Cases'].sum())\n",
    "deaths_total = int(df_wa['Deaths'].sum())\n",
    "hospitalization_total = int(df_wa['Hospitalizations'].sum())"
   ]
  },
  {
   "cell_type": "code",
   "execution_count": null,
   "id": "961ef5a4",
   "metadata": {
    "is_executing": true
   },
   "outputs": [],
   "source": [
    "#display Stats\n",
    "display(HTML(\"<div style = 'background-color: #504e4e; padding: 30px '>\" +\n",
    "             \"<span style='color: #fff; font-size:30px;'> Cases: \"  + str(total_cases) +\"</span>\" +\n",
    "             \"<span style='color: red; font-size:30px;margin-left:20px;'> Deaths: \" + str(deaths_total) + \"</span>\"+\n",
    "             \"<span style='color: lightgreen; font-size:30px; margin-left:20px;'> Hospitalizations: \" + str(hospitalization_total) + \"</span>\"+\n",
    "             \"</div>\"))"
   ]
  },
  {
   "cell_type": "code",
   "execution_count": null,
   "id": "560e38fd",
   "metadata": {
    "is_executing": true
   },
   "outputs": [],
   "source": [
    "#Enter the Number of counties you want the data for \n",
    "# sorting the values by confirmed descednding order\n",
    "fig = go.FigureWidget( layout=go.Layout() )\n",
    "def highlight_col(x):\n",
    "    r = 'background-color: red'\n",
    "    y = 'background-color: yellow'\n",
    "    b = 'background-color: blue'\n",
    "    df1 = pd.DataFrame('', index=x.index, columns=x.columns)\n",
    "    df1.iloc[:, 1] = y\n",
    "    df1.iloc[:, 3] = r\n",
    "    df1.iloc[:, 2] = b\n",
    "    \n",
    "    return df1\n",
    "\n",
    "def show_latest_cases(n):\n",
    "    n = int(n)\n",
    "    return df_wa.sort_values('Cases', ascending= False).head(n).style.apply(highlight_col, axis=None)\n",
    "\n",
    "interact(show_latest_cases, n='10')\n",
    "\n",
    "ipywLayout = widgets.Layout(border='solid 2px green')\n",
    "ipywLayout.display='none' # uncomment this, run cell again - then the graph/figure disappears\n",
    "widgets.VBox([fig], layout=ipywLayout)"
   ]
  },
  {
   "cell_type": "code",
   "execution_count": null,
   "id": "ef682e7d",
   "metadata": {
    "is_executing": true
   },
   "outputs": [],
   "source": [
    "sorted_county_df =df_wa.sort_values('Cases', ascending= False)"
   ]
  },
  {
   "cell_type": "code",
   "execution_count": null,
   "id": "890a9ff5",
   "metadata": {
    "is_executing": true
   },
   "outputs": [],
   "source": [
    "\n",
    "import geopandas as gpd\n",
    "\n",
    "#Get the data\n",
    "data = pd.read_csv(\"~/Desktop/wa_time_series_covid.csv\")\n",
    "\n",
    "# Read the county shapefile for Washington state\n",
    "counties = gpd.read_file('~/Downloads/Washington_Counties_with_Natural_Shoreline___washsh_area.geojson')[['COUNTY','geometry']]\n",
    "\n",
    "#Rename the columns\n",
    "counties.columns = ['county','geometry']"
   ]
  },
  {
   "cell_type": "code",
   "execution_count": null,
   "id": "94c360ff",
   "metadata": {
    "is_executing": true
   },
   "outputs": [],
   "source": [
    "data['County'] = data['County'].apply(str.upper)\n",
    "data.columns = [x.lower() for x in data.columns]"
   ]
  },
  {
   "cell_type": "code",
   "execution_count": null,
   "id": "3ca0fdfe",
   "metadata": {
    "is_executing": true
   },
   "outputs": [],
   "source": [
    "#Preprocess the Data\n",
    "# Print the map\n",
    "#counties.plot(figsize=(20, 20), edgecolor='white', linewidth=1, color='lightblue')"
   ]
  },
  {
   "cell_type": "code",
   "execution_count": null,
   "id": "f172a44a",
   "metadata": {
    "is_executing": true
   },
   "outputs": [],
   "source": [
    "#merge the shapefile and the data\n",
    "geo_county = counties.merge(data,on='county').dropna(axis=0).sort_values(by='cases',ascending=False)\n"
   ]
  },
  {
   "cell_type": "code",
   "execution_count": null,
   "id": "bdf7d8f0",
   "metadata": {
    "is_executing": true
   },
   "outputs": [],
   "source": [
    "geo_county.plot(column='cases',scheme=\"quantiles\",figsize=(10,10),cmap='Spectral',alpha = 0.5,edgecolor='k',legend=True)\n",
    "plt.title('COVID-19 Confirmed Cases by County',fontsize=25)\n",
    "#leg = ax.get_legend()\n",
    "#leg.set_bbox_to_anchor((1.3,1))\n",
    "plt.show()"
   ]
  },
  {
   "cell_type": "code",
   "execution_count": null,
   "id": "481b4b88",
   "metadata": {
    "is_executing": true
   },
   "outputs": [],
   "source": [
    "@interact(hue = ['cases','hospitalizations','deaths'])\n",
    "def plot(hue):\n",
    "    _ = sns.pairplot(geo_county, hue = hue)"
   ]
  },
  {
   "cell_type": "code",
   "execution_count": null,
   "id": "e4928699",
   "metadata": {
    "is_executing": true
   },
   "outputs": [],
   "source": [
    "## Slide to hit the worst hit counties\n",
    "# # plotting the 20 worst hit counties\n",
    "\n",
    "def bubble_chart(n):\n",
    "    fig = px.scatter(sorted_county_df.head(n), x=\"County\", y=\"Cases\", size=\"Cases\", color=\"County\",\n",
    "               hover_name=\"County\", size_max=60)\n",
    "    fig.update_layout(\n",
    "    title=str(n) +\" Worst hit counties\",\n",
    "    xaxis_title=\"Counties\",\n",
    "    yaxis_title=\"Confirmed Cases\",\n",
    "    width = 700\n",
    "    )\n",
    "    fig.show();\n",
    "\n",
    "interact(bubble_chart, n=10)\n",
    "\n",
    "ipywLayout = widgets.Layout(border='solid 2px green')\n",
    "ipywLayout.display='none'\n",
    "widgets.VBox([fig], layout=ipywLayout)"
   ]
  }
 ],
 "metadata": {
  "kernelspec": {
   "display_name": "Python 3 (ipykernel)",
   "language": "python",
   "name": "python3"
  },
  "language_info": {
   "codemirror_mode": {
    "name": "ipython",
    "version": 3
   },
   "file_extension": ".py",
   "mimetype": "text/x-python",
   "name": "python",
   "nbconvert_exporter": "python",
   "pygments_lexer": "ipython3",
   "version": "3.11.3"
  }
 },
 "nbformat": 4,
 "nbformat_minor": 5
}
